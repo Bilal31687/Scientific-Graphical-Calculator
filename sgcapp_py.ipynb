{
  "nbformat": 4,
  "nbformat_minor": 0,
  "metadata": {
    "colab": {
      "provenance": [],
      "authorship_tag": "ABX9TyO9T1Fegi9RQW2RBXKE7YOx",
      "include_colab_link": true
    },
    "kernelspec": {
      "name": "python3",
      "display_name": "Python 3"
    },
    "language_info": {
      "name": "python"
    }
  },
  "cells": [
    {
      "cell_type": "markdown",
      "metadata": {
        "id": "view-in-github",
        "colab_type": "text"
      },
      "source": [
        "<a href=\"https://colab.research.google.com/github/Bilal31687/Scientific-Graphical-Calculator/blob/main/sgcapp_py.ipynb\" target=\"_parent\"><img src=\"https://colab.research.google.com/assets/colab-badge.svg\" alt=\"Open In Colab\"/></a>"
      ]
    },
    {
      "cell_type": "code",
      "execution_count": null,
      "metadata": {
        "colab": {
          "base_uri": "https://localhost:8080/"
        },
        "id": "ZApnEKBPPLnt",
        "outputId": "748d8387-5b8c-49ec-85e3-43683287618f"
      },
      "outputs": [
        {
          "output_type": "stream",
          "name": "stdout",
          "text": [
            "Select operation:\n",
            "1. Add\n",
            "2. Subtract\n",
            "3. Multiply\n",
            "4. Divide\n",
            "Enter choice (1/2/3/4): 1\n",
            "Enter first number: 1\n",
            "Enter second number: \n",
            "Invalid input. Please enter a number.\n",
            "Enter choice (1/2/3/4): 1\n",
            "Enter first number: 1\n",
            "Enter second number: 1\n",
            "1.0 + 1.0 = 2.0\n",
            "Do you want to perform another calculation? (yes/no): no\n",
            "Calculator closing. Thank you!\n"
          ]
        }
      ],
      "source": [
        "import streamlit as st\n",
        "import numpy as np\n",
        "import matplotlib.pyplot as plt\n",
        "\n",
        "# Streamlit UI\n",
        "st.title(\"Scientific Graphical Calculator\")\n",
        "\n",
        "# Operation selection\n",
        "st.header(\"Select a Mathematical Operation\")\n",
        "operation = st.selectbox(\n",
        "    \"Choose a function:\",\n",
        "    (\"Addition\", \"Subtraction\", \"Multiplication\", \"Division\",\n",
        "     \"Sine\", \"Cosine\", \"Tangent\", \"Exponential\", \"Logarithm\")\n",
        ")\n",
        "\n",
        "# Number inputs (for basic operations)\n",
        "num1 = st.number_input(\"Enter first number\", value=0.0, step=0.1, format=\"%.2f\")\n",
        "num2 = st.number_input(\"Enter second number (if applicable)\", value=0.0, step=0.1, format=\"%.2f\")\n",
        "\n",
        "# Calculate result based on the selected operation\n",
        "if operation in [\"Addition\", \"Subtraction\", \"Multiplication\", \"Division\"]:\n",
        "    if operation == \"Addition\":\n",
        "        result = num1 + num2\n",
        "    elif operation == \"Subtraction\":\n",
        "        result = num1 - num2\n",
        "    elif operation == \"Multiplication\":\n",
        "        result = num1 * num2\n",
        "    elif operation == \"Division\":\n",
        "        result = num1 / num2 if num2 != 0 else \"Error: Division by Zero!\"\n",
        "\n",
        "    st.success(f\"The result of {operation.lower()} is: {result}\")\n",
        "\n",
        "# Graphical operations (sine, cosine, tangent, exponential, logarithm)\n",
        "else:\n",
        "    # Generate an array of x-values\n",
        "    x = np.linspace(-10, 10, 100)\n",
        "\n",
        "    if operation == \"Sine\":\n",
        "        y = np.sin(x)\n",
        "    elif operation == \"Cosine\":\n",
        "        y = np.cos(x)\n",
        "    elif operation == \"Tangent\":\n",
        "        y = np.tan(x)\n",
        "    elif operation == \"Exponential\":\n",
        "        y = np.exp(x)\n",
        "    elif operation == \"Logarithm\":\n",
        "        y = np.log(x[x > 0])  # Only positive x-values for logarithm\n",
        "\n",
        "    # Plotting the function\n",
        "    fig, ax = plt.subplots()\n",
        "    ax.plot(x, y, label=f\"{operation} function\")\n",
        "    ax.legend()\n",
        "    ax.grid(True)\n",
        "    ax.set_xlabel(\"x\")\n",
        "    ax.set_ylabel(f\"{operation}(x)\")\n",
        "\n",
        "    # Display the plot in Streamlit\n",
        "    st.pyplot(fig)\n"
      ]
    }
  ]
}